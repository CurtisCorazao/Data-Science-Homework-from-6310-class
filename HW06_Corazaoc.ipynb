{
 "cells": [
  {
   "cell_type": "markdown",
   "id": "ff304870",
   "metadata": {},
   "source": [
    "# Business Objectives\n",
    "1.Understand the experiences and opinions of customers through sentiment analysis.\n",
    "2.Identifying patterns and trends to improve the experience for the business.\n",
    "3.Assessing the prediction accuracy of customer ratings through sentiment analysis."
   ]
  },
  {
   "cell_type": "markdown",
   "id": "47dc63ea",
   "metadata": {},
   "source": [
    "# Technical Objectives\n",
    "1.Creating bigrams, trigrams and quadrams through python coding.\n",
    "2.standardizing the data in order to effectively do count vectorization.\n",
    "3.Executing crosstab function in python to compare prediction accuracy."
   ]
  },
  {
   "cell_type": "markdown",
   "id": "0bd5f39b",
   "metadata": {},
   "source": [
    "# 1. Explain the Results for Count Vectorization\n",
    "• Run the Jupyter notebook named HW06_11.ipynb.\n",
    "• Comparing the results for bi-grams, tri-grams, and quad-grams for both 1-Star and 5-Star\n",
    "reviews, what do you notice about the results.\n",
    "1 star review:\n",
    "The bigram analysis shows that the word phrase “sound” and “like” with a reoccurrence frequency of 162. The next word phrase is “waste” and “time” with a reoccurrence frequency of 158. The next word phrase is “star” and “war” with a reoccurrence frequency of 156.  Conversely, the bottom row word phrase of “bachelor” and “nation” with a reoccurrence frequency of 11.\n",
    "The trigram analysis shows that the word phrase “used”, “love” and “podcast” with a reoccurrence frequency of 60. The next word phrase is “don’t”, “waste” and “time” with a reoccurrence frequency of 26. The next word phrase is “wanted”, “like” and “podcast” with a reoccurrence frequency of 26. Conversely, the bottom row word phrase consists of “every”, “single” and “episode” with a reoccurrence frequency of 11.\n",
    "The quadgram analysis shows that the word phrase “really”, “wanted”, “like” and “podcast” with a reoccurrence frequency of 13. The next word phrase is “wish”, “could”, “give” and “star” with a reoccurrence frequency of 10. The next word phrase is “know”, “therein”, “lie” and “problem” with a frequency of 9. Conversely, the bottom row has a word phrase consisting of “purpose”, “review”, “either” and “name” with a reoccurrence frequency of 9.\n",
    "\n",
    "\n",
    "5 star review:\n",
    "The bigram analysis shows that the word phrase “love” and “podcast” with a reoccurrence frequency of 304. The next word phrase is “look” and “forward” with a reoccurrence frequency of 211. The next word phrase is “star” and “war” with a reoccurrence frequency of 187. Conversely, the bottom row word phrase consists of “harry” and “potter” with a reoccurrence frequency 88.\n",
    "For trigram, we have word phrase “keep”, “great” and “work” with a reoccurrence frequency of 124. The next word phrase is “keep”, “good” and “work” with a reoccurrence frequency of 115. The next word phrase is “look”, “forward” and “every” with a reoccurrence frequency of 37. Conversely, the bottom row word phrase consists of “highly”, “recommend” and “podcast” has a frequency of 16. \n",
    "For quadgram, we have “look”, “forward”, “every” and “week” have a frequency of 20. The next word phrase is “look”, “forward”, “new” and “episode” have a frequency of 18. The next word phrase is “keep”, “good”, “work” and “guy” have a frequency of 14. Conversely, the bottom row word phrase consists of “effort”, “unable”, “eliminate” and “otherwise” with a reoccurrence frequency of 6.\n",
    "The higher the frequency of the word phrase combination the more likely of reoccurrence. Conversely, the lower the frequency of the word phrase combination the less likely of reoccurrence.\n",
    "\n",
    "• Are there any trends that you see, if so why?\n",
    "In the 1 star reviews for bigrams and trigrams, the word “like” is mentioned 4 times in word phrases for the 20 most common. In the 5 star review, the word “work” is mentioned 2 times in both bigram and trigrams with significantly high frequencies.\n",
    "• Does count vectorization do a better job than bag of words?\n",
    "\n",
    "The vectorization counts for both 1 and 5 star reviews show the same results essentially as the bag of words do. For example both bigrams for vectorization and bag of words have the word phrase “love” and “podcast” with a frequency of 304 in the 5 star review, which means more likely to reoccur. \n",
    "\n"
   ]
  },
  {
   "cell_type": "markdown",
   "id": "0e587549",
   "metadata": {},
   "source": [
    "# 2. Explain the Results for the Sentiment Analysis\n",
    "• Run the Jupyter notebook named HW06_12.ipynb.\n",
    "• Analyze the final crosstab results and explain what you are seeing.\n",
    "For the final crosstab for 5 star reviews. The prediction for 4 or less is 34%. The prediction for 5 star is 96%. The predicted total is 86%.\n",
    "\n",
    "For the final crosstab for 1 star reviews. The prediction for 1 star reviews is 52%. The prediction for 2 or higher is 98%. The total prediction is 95%.\n",
    "• Would you consider the results good?\n",
    "I would consider these results good. The 2 or higher for 1 star review is 98% probability of being accurate. Conversely, the 1 star ratings is only 52% probability of being accurate. The 5 star review has a 96% probability accurately.\n",
    "• What does sentiment analysis help you do?\n",
    "It allows to get a better understanding of the accuracy of predicting the ratings. \n",
    "• If you received a new batch of reviews, do you think you could predict if they are a 5-Star or\n",
    "1-Star review?\n",
    "Yes, based on this analysis one can be certain when predicting the accuracy of the ratings. "
   ]
  }
 ],
 "metadata": {
  "kernelspec": {
   "display_name": "Python 3 (ipykernel)",
   "language": "python",
   "name": "python3"
  },
  "language_info": {
   "codemirror_mode": {
    "name": "ipython",
    "version": 3
   },
   "file_extension": ".py",
   "mimetype": "text/x-python",
   "name": "python",
   "nbconvert_exporter": "python",
   "pygments_lexer": "ipython3",
   "version": "3.9.7"
  }
 },
 "nbformat": 4,
 "nbformat_minor": 5
}
